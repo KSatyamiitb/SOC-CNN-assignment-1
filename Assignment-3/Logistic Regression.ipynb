{
 "cells": [
  {
   "cell_type": "markdown",
   "metadata": {},
   "source": [
    "# Assignment 3 : Logistic Regression"
   ]
  },
  {
   "cell_type": "markdown",
   "metadata": {},
   "source": [
    "In this assignment you have to use the logistic regression technique you learned in the week 3 of the prescribed course. You have to use numpy to complete the assignment"
   ]
  },
  {
   "cell_type": "markdown",
   "metadata": {},
   "source": [
    "#### Import other the libraries here"
   ]
  },
  {
   "cell_type": "code",
   "execution_count": 119,
   "metadata": {},
   "outputs": [],
   "source": [
    "import numpy as np\n",
    "import pandas as pd\n",
    "import math\n",
    "import matplotlib\n",
    "from matplotlib import pyplot\n",
    "import matplotlib.pyplot as plt\n",
    "from matplotlib.image import imread"
   ]
  },
  {
   "cell_type": "markdown",
   "metadata": {},
   "source": [
    "##### Define these functions here:\n",
    "- Sigmoid function: `def sigmoid(x):`"
   ]
  },
  {
   "cell_type": "code",
   "execution_count": 80,
   "metadata": {},
   "outputs": [],
   "source": [
    "def sigmoid(x):\n",
    "    g = 1/(1+np.exp(-x))\n",
    "    return g"
   ]
  },
  {
   "cell_type": "markdown",
   "metadata": {},
   "source": [
    "- cost function: `def cost_fn(x,y,theta):` (refer to the course)"
   ]
  },
  {
   "cell_type": "code",
   "execution_count": 81,
   "metadata": {},
   "outputs": [],
   "source": [
    "def cost_fn(x,y,theta): #x is m*(n+1) matrix with x[i][0]=1   #theta is (n+1)*1 matrix   #y is m*1 matrix  \n",
    "    m = len(x) \n",
    "    h = sigmoid(x.dot(theta)) #h is m*1 matrix now\n",
    "    cost = -(y.T).dot(np.log(h))-((1-y).T).dot(np.log(1-h))  #cost is 1*1 matrix    \n",
    "    return cost/m"
   ]
  },
  {
   "cell_type": "markdown",
   "metadata": {},
   "source": [
    "- Gradient descent: `def gradient_descent(X, y, theta, learning_rate=1, iters):`\n",
    "\n",
    "$\\frac{\\partial J}{\\partial \\theta} = \\frac{1}{m} \\Sigma_{i=1}^m ((h_\\theta(x^{(i)})-y^{(i)})x_j^{(i)})$\n",
    "\n",
    "$\\theta_{j+1}^{(i)} = \\theta_j^{(i)} - \\frac{1}{m} \\Sigma_{i=1}^m ((h_\\theta(x^{(i)})-y^{(i)})x_j^{(i)})$\n",
    "\n",
    "Since these are for each element of your matrix. The final expression will be: (if using matrices)\n",
    "$\\theta_{j+1} = \\theta_j - \\frac{1}{m} \\Sigma_{i=1}^m ((h_\\theta(x)-y)x_j)$\n",
    "\n",
    "You have to initialise $\\theta$ and update it at each iteration according to this gradient descent equation"
   ]
  },
  {
   "cell_type": "code",
   "execution_count": 82,
   "metadata": {},
   "outputs": [],
   "source": [
    "def gradient_descent(x,y,theta,iters,learning_rate=1):\n",
    "    m = len(x)\n",
    "    for k in range(iters):\n",
    "        h = sigmoid(x.dot(theta))\n",
    "        new = theta - (learning_rate/m)*(np.transpose(x)).dot(h-y)\n",
    "        theta = new\n",
    "    return theta    "
   ]
  },
  {
   "cell_type": "markdown",
   "metadata": {},
   "source": [
    "- Predict: `def predict(X, y, theta, learning_rate=1, iters)`:"
   ]
  },
  {
   "cell_type": "code",
   "execution_count": 89,
   "metadata": {},
   "outputs": [],
   "source": [
    "def predict(x, y, theta, iters, learning_rate=1):\n",
    "    theta = gradient_descent(x,y,theta,iters,learning_rate=1)\n",
    "    return sigmoid(x.dot(theta)) "
   ]
  },
  {
   "cell_type": "markdown",
   "metadata": {},
   "source": [
    "### Load MNSIT data here\n",
    "\n",
    "There are two file, X.csv and y.csv.\n",
    "You have to load these csv files (read about csv in python) and store them in python variables. \n",
    "There are 5000 images, each line in X.csv is an image (pixels of image of size 20x20 are concatenated to size 400x1) and each line is y.csv is the label of that image (label in n-th line in y.csv corresponds to image in n-th line in X.csv)"
   ]
  },
  {
   "cell_type": "code",
   "execution_count": 120,
   "metadata": {},
   "outputs": [
    {
     "name": "stdout",
     "output_type": "stream",
     "text": [
      "[[0. 0. 0. ... 0. 0. 0.]\n",
      " [0. 0. 0. ... 0. 0. 0.]\n",
      " [0. 0. 0. ... 0. 0. 0.]\n",
      " ...\n",
      " [0. 0. 0. ... 0. 0. 0.]\n",
      " [0. 0. 0. ... 0. 0. 0.]\n",
      " [0. 0. 0. ... 0. 0. 0.]]\n",
      "[0 0 0 ... 9 9 9]\n"
     ]
    }
   ],
   "source": [
    "X = pd.read_csv(\"X.csv\", header = None) \n",
    "X = np.array(X) \n",
    "y = pd.read_csv(\"y.csv\", header = None) \n",
    "y = np.array(y)\n",
    "y = y.flatten()"
   ]
  },
  {
   "cell_type": "markdown",
   "metadata": {},
   "source": [
    "Now your task is to:\n",
    "1. Reshape these to 20x20 and show any 5 of them (random) here. \n",
    "2. For regression, you have to use the 400x1 data only. (X will be a 5000x400 matrix and y will be a 1x400 matrix)\n",
    "3. Get you prediction and compare it with the labels in y\n",
    "4. Calculate the error %"
   ]
  },
  {
   "cell_type": "code",
   "execution_count": 121,
   "metadata": {},
   "outputs": [
    {
     "data": {
      "image/png": "[encoded data removed]",
      "text/plain": [
       "<Figure size 720x720 with 5 Axes>"
      ]
     },
     "metadata": {
      "needs_background": "light"
     },
     "output_type": "display_data"
    }
   ],
   "source": [
    "plt.figure(figsize=(10,10))\n",
    "for index, (image, label) in enumerate(zip(X[3497:3502], y[3497:3502])):\n",
    " plt.subplot(1, 5, index + 1)\n",
    " plt.imshow(np.reshape(image, (20,20)), cmap = plt.cm.gray)\n",
    " plt.title(' %i\\n' % label, fontsize = 20)"
   ]
  },
  {
   "cell_type": "markdown",
   "metadata": {},
   "source": [
    "Generate the [confusion matrix](https://en.wikipedia.org/wiki/Confusion_matrix) here and show it here: \n"
   ]
  },
  {
   "cell_type": "code",
   "execution_count": 122,
   "metadata": {},
   "outputs": [
    {
     "name": "stdout",
     "output_type": "stream",
     "text": [
      "hypothesis for 0  [9.99770515e-01 9.99764421e-01 9.88911099e-01 ... 5.93243411e-07\n",
      " 3.98846505e-07 1.06939408e-02]\n",
      "hypothesis for 1  [2.58653007e-11 1.47399414e-09 2.65328376e-12 ... 4.52940731e-02\n",
      " 5.44386060e-10 2.91995233e-13]\n",
      "hypothesis for 2  [5.89513958e-04 2.74816370e-05 1.07493734e-04 ... 2.79753988e-03\n",
      " 9.30097338e-10 2.03606007e-05]\n",
      "hypothesis for 3  [2.31312720e-04 1.90439852e-04 1.10932047e-04 ... 1.47277571e-01\n",
      " 2.56959735e-07 7.97765215e-10]\n",
      "hypothesis for 4  [3.91014259e-08 1.15196992e-08 9.31224002e-08 ... 1.21732847e-03\n",
      " 2.86671809e-02 4.29317395e-04]\n",
      "hypothesis for 5  [5.66460649e-04 5.44611233e-03 7.96525222e-04 ... 1.08372604e-01\n",
      " 1.66008220e-03 1.12135405e-09]\n",
      "hypothesis for 6  [1.06071203e-05 2.06676129e-08 3.70420119e-05 ... 1.00925204e-02\n",
      " 8.86816817e-09 7.48062724e-06]\n",
      "hypothesis for 7  [6.85954491e-06 4.13459617e-06 1.03262718e-06 ... 6.42134135e-05\n",
      " 4.08509631e-04 3.67194383e-01]\n",
      "hypothesis for 8  [2.72577212e-04 1.04289441e-06 1.99935546e-02 ... 1.24596021e-02\n",
      " 7.25408224e-03 6.89514223e-02]\n",
      "hypothesis for 9  [1.41983310e-03 1.88893667e-05 1.58000253e-03 ... 8.50213707e-01\n",
      " 8.03365194e-01 2.72635789e-01]\n",
      "error percentages for 0  [2.29485064e-02 2.35578599e-02 1.10889014e+00 ... 5.93243411e-05\n",
      " 3.98846505e-05 1.06939408e+00]\n",
      "error percentages for 1  [2.58653007e-09 1.47399414e-07 2.65328376e-10 ... 4.52940731e+00\n",
      " 5.44386060e-08 2.91995233e-11]\n",
      "error percentages for 2  [5.89513958e-02 2.74816370e-03 1.07493734e-02 ... 2.79753988e-01\n",
      " 9.30097338e-08 2.03606007e-03]\n",
      "error percentages for 3  [2.31312720e-02 1.90439852e-02 1.10932047e-02 ... 1.47277571e+01\n",
      " 2.56959735e-05 7.97765215e-08]\n",
      "error percentages for 4  [3.91014259e-06 1.15196992e-06 9.31224002e-06 ... 1.21732847e-01\n",
      " 2.86671809e+00 4.29317395e-02]\n",
      "error percentages for 5  [5.66460649e-02 5.44611233e-01 7.96525222e-02 ... 1.08372604e+01\n",
      " 1.66008220e-01 1.12135405e-07]\n",
      "error percentages for 6  [1.06071203e-03 2.06676129e-06 3.70420119e-03 ... 1.00925204e+00\n",
      " 8.86816817e-07 7.48062724e-04]\n",
      "error percentages for 7  [6.85954491e-04 4.13459617e-04 1.03262718e-04 ... 6.42134135e-03\n",
      " 4.08509631e-02 3.67194383e+01]\n",
      "error percentages for 8  [2.72577212e-02 1.04289441e-04 1.99935546e+00 ... 1.24596021e+00\n",
      " 7.25408224e-01 6.89514223e+00]\n",
      "error percentages for 9  [1.41983310e-01 1.88893667e-03 1.58000253e-01 ... 1.49786293e+01\n",
      " 1.96634806e+01 7.27364211e+01]\n"
     ]
    }
   ],
   "source": [
    "theta = np.zeros(len(X[0]))\n",
    "ynew = np.zeros(len(y))\n",
    "data = []\n",
    "\n",
    "for j in range(10):\n",
    "        for i in range(l):\n",
    "             if(y[i] == j):\n",
    "                ynew[i] = 1 \n",
    "             else: ynew[i] = 0              \n",
    "        hypothesis = predict(X, ynew, theta, 5000, 1)\n",
    "        print(\"hypothesis for {} \".format(j) , hypothesis)\n",
    "        hypothesis = hypothesis.tolist()\n",
    "        data.append(hypothesis)\n",
    "data = np.asarray(data)      \n",
    "error = np.zeros(len(y))\n",
    "Err = [error for j in range(10)]\n",
    "for j in range(10):\n",
    "        for i in range(l):\n",
    "             if(y[i] == j):\n",
    "                error[i] = 100*(1 - data[j][i]) \n",
    "             else: \n",
    "                error[i] = 100*data[j][i] \n",
    "        Err[j]=error      \n",
    "        print(\"error percentages for {} \".format(j),error) "
   ]
  },
  {
   "cell_type": "code",
   "execution_count": 123,
   "metadata": {},
   "outputs": [
    {
     "name": "stdout",
     "output_type": "stream",
     "text": [
      "[[490.   0.   2.   0.   0.   2.   1.   2.   0.   1.]\n",
      " [  0. 485.   1.   1.   1.   1.   1.   2.   2.   2.]\n",
      " [  1.   1. 436.   8.   3.   2.   3.   4.   0.   1.]\n",
      " [  1.   1.   6. 428.   1.  15.   0.   4.   5.   2.]\n",
      " [  1.   0.   5.   1. 462.   5.   3.   3.   0.   4.]\n",
      " [  5.   0.   2.   8.   0. 430.   5.   1.   2.   3.]\n",
      " [  2.   0.   4.   0.   2.   5. 480.   0.   0.   0.]\n",
      " [  0.   0.   4.   4.   0.   0.   0. 461.   1.   9.]\n",
      " [  3.  11.  23.   6.   7.  23.   3.   3. 376.   2.]\n",
      " [  0.   0.   2.   3.  22.   9.   0.  28.   1. 418.]]\n"
     ]
    }
   ],
   "source": [
    "\n",
    "confusion = np.zeros((10, 10))\n",
    "for j in range(10):\n",
    "        for i in range(l):\n",
    "             if(500*j <= i and i < 500*(i+1) and data[j][i] > 0.5):\n",
    "                confusion[j][math.floor(i/500)] = confusion[j][math.floor(i/500)] + 1 \n",
    "                \n",
    "             elif ((500*j > i or i >= 500*(i+1)) and data[j][i] > 0.5): confusion[j][math.floor(i/500)] = confusion[j][math.floor(i/500)] + 1              \n",
    "print(confusion)"
   ]
  },
  {
   "cell_type": "markdown",
   "metadata": {},
   "source": [
    "#### Bonus task: \n",
    "Use [scikit-learn](https://scikit-learn.org/stable/modules/generated/sklearn.linear_model.LogisticRegression.html) to perform logistic regression (just a single function which will handle all your task :P)"
   ]
  },
  {
   "cell_type": "code",
   "execution_count": null,
   "metadata": {},
   "outputs": [],
   "source": []
  }
 ],
 "metadata": {
  "kernelspec": {
   "display_name": "Python 3",
   "language": "python",
   "name": "python3"
  },
  "language_info": {
   "codemirror_mode": {
    "name": "ipython",
    "version": 3
   },
   "file_extension": ".py",
   "mimetype": "text/x-python",
   "name": "python",
   "nbconvert_exporter": "python",
   "pygments_lexer": "ipython3",
   "version": "3.8.5"
  }
 },
 "nbformat": 4,
 "nbformat_minor": 4
}
